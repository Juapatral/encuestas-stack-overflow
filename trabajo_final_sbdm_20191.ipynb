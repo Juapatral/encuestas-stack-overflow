{
  "nbformat": 4,
  "nbformat_minor": 0,
  "metadata": {
    "colab": {
      "name": "trabajo_final_sbdm_20191",
      "version": "0.3.2",
      "provenance": [],
      "collapsed_sections": [
        "MTQwGxD37d--",
        "RlPRtU4F27of",
        "9vuPHDVXTyAk",
        "b4BefS_I4KEp",
        "EbU5VlR5D0Ys",
        "fONdN4ySDrFY",
        "qsflINUVUljo",
        "671fq-3jZhai",
        "38h3COV5Zl0l",
        "7bQcum-WZo0N",
        "BhB_vdnrQJ-l"
      ],
      "toc_visible": true,
      "include_colab_link": true
    },
    "kernelspec": {
      "name": "python3",
      "display_name": "Python 3"
    }
  },
  "cells": [
    {
      "cell_type": "markdown",
      "metadata": {
        "id": "view-in-github",
        "colab_type": "text"
      },
      "source": [
        "<a href=\"https://colab.research.google.com/github/Juapatral/encuestas-stack-overflow/blob/master/trabajo_final_sbdm_20191.ipynb\" target=\"_parent\"><img src=\"https://colab.research.google.com/assets/colab-badge.svg\" alt=\"Open In Colab\"/></a>"
      ]
    },
    {
      "cell_type": "markdown",
      "metadata": {
        "id": "MUAq9vGk2xRZ",
        "colab_type": "text"
      },
      "source": [
        "\n",
        "# <center> Trabajo final Sistema de Bases de Datos Masivos </center>\n",
        "---\n"
      ]
    },
    {
      "cell_type": "markdown",
      "metadata": {
        "id": "OvbbXlf9YQIQ",
        "colab_type": "text"
      },
      "source": [
        "    \n",
        "### <center> Posgrado de Analítica, 2019-1 </center>\n",
        "​\n",
        "###  <center> Integrantes </center>\n",
        "​\n",
        "<center> \n",
        "Jhon Anderson Londoño Herrera <br>  \n",
        "Juan Pablo Trujillo Alviz \n",
        "</center>\n",
        "\n",
        "#### <center> 22 de junio de 2019 </center>\n",
        "\n",
        "<br>\n",
        "\n",
        "---"
      ]
    },
    {
      "cell_type": "markdown",
      "metadata": {
        "id": "MTQwGxD37d--",
        "colab_type": "text"
      },
      "source": [
        "## Indice\n",
        "\n",
        "---"
      ]
    },
    {
      "cell_type": "markdown",
      "metadata": {
        "id": "w8K2ZS3C9tRl",
        "colab_type": "text"
      },
      "source": [
        "1. [Motivación](#motivacion)\n",
        "\n",
        "> 1.1[Licenciamiento](#licenciamiento)\n",
        "\n",
        "2. [Metodología](#metodologia)\n",
        "\n",
        "\n",
        "3. [Desarrollo](#desarrollo)\n",
        "\n",
        "> 3.1 [Establecer conexión](#establecer-conexion)\n",
        "\n",
        "> 3.2 [Limpieza de tablas](#limpieza-de-las-tablas)\n",
        "\n",
        "> 3.3 [SQL](#sql)\n",
        "\n",
        "4. [URL's de interés](#urls-de-interes)\n",
        "\n",
        "\n",
        "\n",
        "\n",
        "\n",
        "\n",
        "\n",
        "\n",
        "\n"
      ]
    },
    {
      "cell_type": "markdown",
      "metadata": {
        "id": "RlPRtU4F27of",
        "colab_type": "text"
      },
      "source": [
        "## Motivación\n",
        "---\n"
      ]
    },
    {
      "cell_type": "markdown",
      "metadata": {
        "id": "F_VB5nQPTvJr",
        "colab_type": "text"
      },
      "source": [
        "Este es el trabajo final del módulo Sistemas de Bases de Datos Masivos del posgrado de Analítica de la Universidad Nacional de Colombia, Sede Medellín. La guía del módulo puede ser consultado en esta [página web](https://sebastian-gomez.com/bigdata/) creada por el profesor MsC. Sebastián Gómez. El trabajo final, sus preguntas y lineamientos pueden ser consultados [aquí](https://drive.google.com/file/d/18uzP5uGg7OhbEDQIECtT8XtA4jr3NTf9/view).\n",
        "\n",
        "<br>\n",
        "\n",
        "Analizar tendencias dentro del mundo de la tecnología se ha convertido en uno de los más grandes retos de la industria, prever cuál será el siguiente y más éxitoso lenguaje de programación o cuál sería el salario ideal para un desarrollador por tecnología se convertirá en una tarea crítica durante los próximos años. Stack Overflow es un sitio web ampliamente utilizado por la comunidad de desarrolladores de software, en la cual otros desarrolladores pueden encontrar soluciones a problemas de programación en diferentes lenguajes. Este sitio realiza desde el 2011 una encuesta a sus usuarios para observar y analizar tendencias en la industria de la tecnología y el software: https://insights.stackoverflow.com/survey/2019. La más reciente fue durante el mismo 2019. \n",
        "\n",
        "<br>\n",
        "\n",
        "Las encuestas han sido cuidadosamente almacenadas y expuestas en directorios de datos abiertos. Para este análisis se utilizarán 7 conjuntos de datos masivos completamente libres y accesibles a través de BigQuery que son las encuestas de los años **2011 a 2017**.\n",
        "\n",
        "<br>\n",
        "\n",
        "Las encuestas pueden ser consultadas a través de Google Cloud BigQuery o están disponibles de manera gratuita en [este enlace](https://insights.stackoverflow.com/survey). (Importante revisar el licenciamiento de las bases de datos antes de trabajar con ellas)"
      ]
    },
    {
      "cell_type": "markdown",
      "metadata": {
        "id": "9vuPHDVXTyAk",
        "colab_type": "text"
      },
      "source": [
        "#### Licenciamiento"
      ]
    },
    {
      "cell_type": "markdown",
      "metadata": {
        "id": "SLLxyEpxT0vD",
        "colab_type": "text"
      },
      "source": [
        "Todas las encuestas desde el 2011 al 2019 están disponibles [aquí](https://insights.stackoverflow.com/survey).\n",
        "\n",
        "\n",
        "Estas bases de datos son publicables a través de la Licencia de Bases de Datos Abiertas (ODbL por sus siglas en inglés) y los términos y condiciones pueden ser consultados [aquí](http://opendatacommons.org/licenses/odbl/1.0/), mientras que todos los derechos individuales sobre el contenido de la base de datos están licenciados a través de la Licencia de Contenido de Bases de Datos (DbCL por sus siglas en inglés) y los términos y condiciones pueden ser consultados [aquí](http://opendatacommons.org/licenses/dbcl/1.0/).\n",
        "\n",
        "Este tipo de licenciamiento da derecho a compartir, adaptar y crear trabajos derivados de las encuestas mientras se le atribuya toda la fuente a Stack Overflow, se mantenga abierta la base de datos resultante y continúe con el licenciamiento ODbL.\n",
        "\n",
        "<br>\n",
        "\n",
        "**Agradecimientos**\n",
        "\n",
        "La fuente primaria de las bases de datos consultadas es Stack Overflow y contiene información sobre las encuestas realizadas por esta organización. La base de datos resultante, que en este documento se llama \"encuestas\", así como todos los resultados obtenidos de ella, están disponible gracias a la Licencia de Bases de Datos Abiertas ([ODbL](https://opendatacommons.org/licenses/odbl/1.0/) ).\n"
      ]
    },
    {
      "cell_type": "markdown",
      "metadata": {
        "id": "b4BefS_I4KEp",
        "colab_type": "text"
      },
      "source": [
        "## Metodología\n",
        "---\n"
      ]
    },
    {
      "cell_type": "markdown",
      "metadata": {
        "id": "Pl7EZ0f2Tfcy",
        "colab_type": "text"
      },
      "source": [
        "**Instalar paquetes necesarios**\n",
        "\n",
        "\n",
        "---\n",
        "\n",
        "Se propone utilizar una conexión directa a Google BigQuery a través de una API privada, generando las credenciales de acceso. Para ello se utiliza el paquete de python *google-cloud-bigquery* el cual se puede instalar ejecutando el comando en la terminal:\n",
        "\n",
        "```terminal\n",
        "pip install google-cloud.bigquery\n",
        "```\n",
        "En caso de que se tenga instalado *Anaconda Navigator*, se recomienda instalar el paquete con el siguiente comando dentro de la terminal de Anaconda:\n",
        "\n",
        "```terminal\n",
        "conda install -c conda-forge google-cloud-bigquery\n",
        "```\n",
        "<br>\n",
        "\n",
        "**Establecer conexión desde equipo local**\n",
        "\n",
        "---\n",
        "\n",
        "Una vez se instale el paquete necesario, se puede realizar la conexión ejecutando los siguientes códigos en python:\n",
        "\n",
        "```terminal\n",
        "from google.cloud import bigquery\n",
        "from google.oauth2 import service_account\n",
        "\n",
        "# cargar el archivo de credenciales descargado \n",
        "credenciales = service_account.Credentials.from_service_account_file(.../filepath/filename.json)\n",
        "\n",
        "# identificar el nombre del proyecto\n",
        "id_proyecto = 'nombre_del_proyecto'\n",
        "\n",
        "# realizar la conexion\n",
        "cliente = bigquery.Client(credentials = credenciales, project = id_proyecto)\n",
        "\n",
        "```\n",
        "<br>\n",
        "\n",
        "**Establecer conexión desde Google Colab**\n",
        "\n",
        "---\n",
        "\n",
        "En caso que esté ejecutando los comandos en Google Colab, es necesario realizar la carga del archivo a Google Drive y se llama de la siguiente forma.\n",
        "\n",
        "```terminal\n",
        "\n",
        "# subir el archivo de credenciales a su google drive\n",
        "# para mas informacion ir a la seccion de anexos dentro de metodologia\n",
        "\n",
        "# importar la libreria google.colab\n",
        "from google.colab import drive\n",
        "\n",
        "# habilitar el uso de tu drive y abrir el vínculo que sale como resultado\n",
        "drive.mount('/content/gdrive') # ingrese la contraseña generada\n",
        "\n",
        "# cambiar el directorio\n",
        "cd gdrive/'My drive'/\n",
        "\n",
        "# cargar el archivo de credenciales desde Drive\n",
        "credenciales = service_account.Credentials.from_service_account_file('filename.json')\n",
        "\n",
        "```\n",
        "<br>\n",
        "\n",
        "**Ejecutar queries**\n",
        "\n",
        "---\n",
        "Una vez la conexión sea exitosa, se pueden ejecutar las rutinas de SQL de la siguiente forma:\n",
        "\n",
        "```terminal\n",
        "\n",
        "# se escribe el query como texto crudo\n",
        "query = '''\n",
        "SELECT *\n",
        "FROM `dataset.table`\n",
        "'''\n",
        "\n",
        "# se ejecuta el query\n",
        "consulta = cliente.query(query)\n",
        "\n",
        "# se traen los resultados como un objeto Rowiterator\n",
        "resultado = consulta.result()\n",
        "\n",
        "# si se quiere visualizar los resultados como un dataframe de pandas\n",
        "import pandas as pd\n",
        "\n",
        "tabla = resultado.to_dataframe()\n",
        "tabla.head()\n",
        "\n",
        "```\n",
        "<br>\n",
        "\n",
        "**Anexos**\n",
        "\n",
        "---\n",
        "\n",
        "* Para más información sobre el paquete *google-cloud-bigquery*, [dar click aquí](https://googleapis.github.io/google-cloud-python/latest/index.html).\n",
        "\n",
        "* Para más información sobre cómo realizar la conexión con Google BigQuery, [dar click aquí](https://www.blendo.co/blog/access-data-google-bigquery-python-r/).\n",
        "\n",
        "* Para más información sobre cómo generar las credenciales de acceso, [dar click aquí](https://stackoverflow.com/questions/43004904/accessing-gae-log-files-using-google-cloud-logging-python).\n",
        "\n",
        "* Para más información sobre cómo cargar archivos a Google Colab, [dar click aquí](https://colab.research.google.com/notebooks/io.ipynb#scrollTo=u22w3BFiOveA)."
      ]
    },
    {
      "cell_type": "markdown",
      "metadata": {
        "id": "69xvAPH1DW23",
        "colab_type": "text"
      },
      "source": [
        "## Desarrollo\n",
        "---\n"
      ]
    },
    {
      "cell_type": "code",
      "metadata": {
        "id": "IeX64CpX2zLf",
        "colab_type": "code",
        "colab": {}
      },
      "source": [
        "# cargar paquetes\n",
        "from google.cloud import bigquery # realizar conexion con google bigquery\n",
        "from google.oauth2 import service_account # realizar conexiones con las apis de google\n",
        "from google.colab import drive # utilizar archivos del drive personal\n",
        "import numpy as np # funciones generales de limpieza\n",
        "import pandas as pd # tablas \n",
        "import matplotlib.pyplot as plt # graficas\n",
        "from matplotlib.transforms import Bbox # para ajustar tamaño\n",
        "import re # manejo de expresiones regulares\n",
        "from IPython.display import Image, display # para visualizar imagenes en el cuaderno\n",
        "from itertools import chain # para deslistar listas"
      ],
      "execution_count": 0,
      "outputs": []
    },
    {
      "cell_type": "markdown",
      "metadata": {
        "id": "EbU5VlR5D0Ys",
        "colab_type": "text"
      },
      "source": [
        "### Establecer conexión"
      ]
    },
    {
      "cell_type": "code",
      "metadata": {
        "id": "BPpqwO4PGG3X",
        "colab_type": "code",
        "outputId": "3df7068e-bafc-4355-9569-b751f06a6aec",
        "colab": {
          "base_uri": "https://localhost:8080/",
          "height": 122
        }
      },
      "source": [
        "# montar drive propio\n",
        "drive.mount('/content/gdrive') # si se tiene varias cuentas activas, siempre pedira reactivacion"
      ],
      "execution_count": 0,
      "outputs": [
        {
          "output_type": "stream",
          "text": [
            "Go to this URL in a browser: https://accounts.google.com/o/oauth2/auth?client_id=947318989803-6bn6qk8qdgf4n4g3pfee6491hc0brc4i.apps.googleusercontent.com&redirect_uri=urn%3Aietf%3Awg%3Aoauth%3A2.0%3Aoob&scope=email%20https%3A%2F%2Fwww.googleapis.com%2Fauth%2Fdocs.test%20https%3A%2F%2Fwww.googleapis.com%2Fauth%2Fdrive%20https%3A%2F%2Fwww.googleapis.com%2Fauth%2Fdrive.photos.readonly%20https%3A%2F%2Fwww.googleapis.com%2Fauth%2Fpeopleapi.readonly&response_type=code\n",
            "\n",
            "Enter your authorization code:\n",
            "··········\n",
            "Mounted at /content/gdrive\n"
          ],
          "name": "stdout"
        }
      ]
    },
    {
      "cell_type": "code",
      "metadata": {
        "id": "wVjbq750XBbA",
        "colab_type": "code",
        "outputId": "d0717f4c-c738-48bf-fe73-2b9967729928",
        "colab": {
          "base_uri": "https://localhost:8080/",
          "height": 34
        }
      },
      "source": [
        "# establecer ruta para cargar el archivo\n",
        "cd gdrive/'My Drive'"
      ],
      "execution_count": 0,
      "outputs": [
        {
          "output_type": "stream",
          "text": [
            "/content/gdrive/My Drive\n"
          ],
          "name": "stdout"
        }
      ]
    },
    {
      "cell_type": "code",
      "metadata": {
        "id": "ulx5TLW-2rW8",
        "colab_type": "code",
        "colab": {}
      },
      "source": [
        "## SE ESTABLECE LA CONEXION\n",
        "\n",
        "# ejecutar las credenciales\n",
        "credenciales = service_account.Credentials.from_service_account_file(r'bases-de-datos-clase2-20190601-9d3f46d1c833.json')\n",
        "\n",
        "# establecer nombre del proyecto\n",
        "id_proyecto = 'bases-de-datos-clase2-20190601'\n",
        "\n",
        "# iniciar el cliente\n",
        "cliente = bigquery.Client(credentials = credenciales, project = id_proyecto)"
      ],
      "execution_count": 0,
      "outputs": []
    },
    {
      "cell_type": "markdown",
      "metadata": {
        "id": "JemkfU6LA47A",
        "colab_type": "text"
      },
      "source": [
        "```\n",
        "# EJEMPLO\n",
        "\n",
        "# NOT RUN\n",
        "\n",
        "# se establecen todos los queries generales a ejecutar para visualizar las tablas\n",
        "\n",
        "queries = ['\\nSELECT *\\nFROM `fh-bigquery.stackoverflow.survey_results_' + str(i) +'`' + '\\nLIMIT 100' for i in range(2011,2017)]\n",
        "queries.append('\\nSELECT *\\nFROM `fh-bigquery.stackoverflow.survey_results_public_2017`\\nLIMIT 100')\n",
        "\n",
        "[print(query) for query in queries]\n",
        "\n",
        "# se ejecuta el query\n",
        "consulta = cliente.query(queries[0])\n",
        "\n",
        "# se traen los resultados como un objeto Rowiterator\n",
        "resultado = consulta.result()\n",
        "\n",
        "# si se quiere visualizar los resultados como un dataframe de pandas\n",
        "encuesta_2011 = resultado.to_dataframe()\n",
        "encuesta_2011.head()\n",
        "\n",
        "# END NOT RUN\n",
        "```"
      ]
    },
    {
      "cell_type": "code",
      "metadata": {
        "id": "DgLLFZzwU5ng",
        "colab_type": "code",
        "colab": {}
      },
      "source": [
        "# se establecen los nuevos queries que contengan datos comunes entre las encuestas\n",
        "queries_comunes = []\n",
        "\n",
        "queries_comunes.append( '''SELECT string_field_0 AS country,string_field_3 AS years_programming,string_field_4 AS occupation,string_field_45 AS salary,string_field_30 AS programming_language_technology1,string_field_31 AS programming_language_technology2,string_field_32 AS programming_language_technology3,string_field_33 AS programming_language_technology4,string_field_34 AS programming_language_technology5,string_field_35 AS programming_language_technology6,string_field_36 AS programming_language_technology7,string_field_37 AS programming_language_technology8,string_field_38 AS programming_language_technology9,string_field_39 AS programming_language_technology10,string_field_40 AS programming_language_technology11,string_field_41 AS programming_language_technology12,string_field_42 AS programming_language_technology13\n",
        "FROM `fh-bigquery.stackoverflow.survey_results_2011`\n",
        "'''\n",
        "                      )\n",
        "\n",
        "queries_comunes.append( '''SELECT string_field_0 AS country,string_field_3 AS years_programming,string_field_4 AS occupation,string_field_39 AS salary,string_field_22 AS programming_language_technology1,string_field_23 AS programming_language_technology2,string_field_24 AS programming_language_technology3,string_field_25 AS programming_language_technology4,string_field_26 AS programming_language_technology5,string_field_27 AS programming_language_technology6,string_field_28 AS programming_language_technology7,string_field_29 AS programming_language_technology8,string_field_30 AS programming_language_technology9,string_field_31 AS programming_language_technology10,string_field_32 AS programming_language_technology11,string_field_33 AS programming_language_technology12,string_field_34 AS programming_language_technology13,string_field_35 AS programming_language_technology14,string_field_36 AS programming_language_technology15\n",
        "FROM `fh-bigquery.stackoverflow.survey_results_2012`\n",
        "'''\n",
        "                      )\n",
        "\n",
        "queries_comunes.append( '''SELECT string_field_0 AS country,string_field_3 AS years_programming,string_field_4 AS occupation,string_field_100 AS salary,string_field_56 AS programming_language_technology1,string_field_57 AS programming_language_technology2,string_field_58 AS programming_language_technology3,string_field_59 AS programming_language_technology4,string_field_60 AS programming_language_technology5,string_field_61 AS programming_language_technology6,string_field_62 AS programming_language_technology7,string_field_63 AS programming_language_technology8,string_field_64 AS programming_language_technology9,string_field_65 AS programming_language_technology10,string_field_66 AS programming_language_technology11,string_field_67 AS programming_language_technology12,string_field_68 AS programming_language_technology13,string_field_69 AS programming_language_technology14\n",
        "FROM `fh-bigquery.stackoverflow.survey_results_2013`\n",
        "'''\n",
        "                      )\n",
        "\n",
        "queries_comunes.append( '''SELECT string_field_0 AS country,string_field_5 AS years_programming,string_field_6 AS occupation,string_field_7 AS salary,string_field_42 AS programming_language_technology1,string_field_43 AS programming_language_technology2,string_field_44 AS programming_language_technology3,string_field_45 AS programming_language_technology4,string_field_46 AS programming_language_technology5,string_field_47 AS programming_language_technology6,string_field_48 AS programming_language_technology7,string_field_49 AS programming_language_technology8,string_field_50 AS programming_language_technology9,string_field_51 AS programming_language_technology10,string_field_52 AS programming_language_technology11,string_field_53 AS programming_language_technology12\n",
        "FROM `fh-bigquery.stackoverflow.survey_results_2014`\n",
        "'''\n",
        "                      )\n",
        "\n",
        "queries_comunes.append( '''SELECT string_field_0 AS country,string_field_4 AS years_programming,string_field_5 AS occupation,string_field_105 AS salary,string_field_8 AS programming_language_technology1,string_field_9 AS programming_language_technology2,string_field_10 AS programming_language_technology3,string_field_11 AS programming_language_technology4,string_field_12 AS programming_language_technology5,string_field_13 AS programming_language_technology6,string_field_14 AS programming_language_technology7,string_field_15 AS programming_language_technology8,string_field_16 AS programming_language_technology9,string_field_17 AS programming_language_technology10,string_field_18 AS programming_language_technology11,string_field_19 AS programming_language_technology12,string_field_20 AS programming_language_technology13,string_field_21 AS programming_language_technology14,string_field_22 AS programming_language_technology15,string_field_23 AS programming_language_technology16,string_field_24 AS programming_language_technology17,string_field_25 AS programming_language_technology18,string_field_26 AS programming_language_technology19,string_field_27 AS programming_language_technology20,string_field_28 AS programming_language_technology21,string_field_29 AS programming_language_technology22,string_field_30 AS programming_language_technology23,string_field_31 AS programming_language_technology24,string_field_32 AS programming_language_technology25,string_field_33 AS programming_language_technology26,string_field_34 AS programming_language_technology27,string_field_35 AS programming_language_technology28,string_field_36 AS programming_language_technology29,string_field_37 AS programming_language_technology30,string_field_38 AS programming_language_technology31,string_field_39 AS programming_language_technology32,string_field_40 AS programming_language_technology33,string_field_41 AS programming_language_technology34,string_field_42 AS programming_language_technology35,string_field_43 AS programming_language_technology36,string_field_44 AS programming_language_technology37,string_field_45 AS programming_language_technology38,string_field_46 AS programming_language_technology39,string_field_47 AS programming_language_technology40,string_field_48 AS programming_language_technology41,string_field_49 AS programming_language_technology42,string_field_50 AS programming_language_technology43\n",
        "FROM `fh-bigquery.stackoverflow.survey_results_2015`\n",
        "'''\n",
        "                      )\n",
        "\n",
        "queries_comunes.append( '''SELECT country AS country,experience_range AS years_programming,occupation AS occupation,salary_range AS salary,tech_do AS programming_language_technology1,dev_environment AS programming_language_technology2\n",
        "FROM `fh-bigquery.stackoverflow.survey_results_2016`\n",
        "'''\n",
        "                      )\n",
        "\n",
        "queries_comunes.append( '''SELECT Country AS country,YearsProgram AS years_programming,Professional AS occupation,Salary AS salary,HaveWorkedLanguage AS programming_language_technology1,HaveWorkedFramework AS programming_language_technology2,HaveWorkedDatabase AS programming_language_technology3,HaveWorkedPlatform AS programming_language_technology4,IDE AS programming_language_technology5\n",
        "FROM `fh-bigquery.stackoverflow.survey_results_public_2017`\n",
        "'''\n",
        "                      )"
      ],
      "execution_count": 0,
      "outputs": []
    },
    {
      "cell_type": "code",
      "metadata": {
        "id": "TdueMi9hVgyT",
        "colab_type": "code",
        "outputId": "7778cc42-2115-435c-8fbb-948b39afe1ff",
        "colab": {
          "base_uri": "https://localhost:8080/",
          "height": 411
        }
      },
      "source": [
        "[print(query) for query in queries_comunes]"
      ],
      "execution_count": 0,
      "outputs": [
        {
          "output_type": "stream",
          "text": [
            "SELECT string_field_0 AS country,string_field_3 AS years_programming,string_field_4 AS occupation,string_field_45 AS salary,string_field_30 AS programming_language_technology1,string_field_31 AS programming_language_technology2,string_field_32 AS programming_language_technology3,string_field_33 AS programming_language_technology4,string_field_34 AS programming_language_technology5,string_field_35 AS programming_language_technology6,string_field_36 AS programming_language_technology7,string_field_37 AS programming_language_technology8,string_field_38 AS programming_language_technology9,string_field_39 AS programming_language_technology10,string_field_40 AS programming_language_technology11,string_field_41 AS programming_language_technology12,string_field_42 AS programming_language_technology13\n",
            "FROM `fh-bigquery.stackoverflow.survey_results_2011`\n",
            "\n",
            "SELECT string_field_0 AS country,string_field_3 AS years_programming,string_field_4 AS occupation,string_field_39 AS salary,string_field_22 AS programming_language_technology1,string_field_23 AS programming_language_technology2,string_field_24 AS programming_language_technology3,string_field_25 AS programming_language_technology4,string_field_26 AS programming_language_technology5,string_field_27 AS programming_language_technology6,string_field_28 AS programming_language_technology7,string_field_29 AS programming_language_technology8,string_field_30 AS programming_language_technology9,string_field_31 AS programming_language_technology10,string_field_32 AS programming_language_technology11,string_field_33 AS programming_language_technology12,string_field_34 AS programming_language_technology13,string_field_35 AS programming_language_technology14,string_field_36 AS programming_language_technology15\n",
            "FROM `fh-bigquery.stackoverflow.survey_results_2012`\n",
            "\n",
            "SELECT string_field_0 AS country,string_field_3 AS years_programming,string_field_4 AS occupation,string_field_100 AS salary,string_field_56 AS programming_language_technology1,string_field_57 AS programming_language_technology2,string_field_58 AS programming_language_technology3,string_field_59 AS programming_language_technology4,string_field_60 AS programming_language_technology5,string_field_61 AS programming_language_technology6,string_field_62 AS programming_language_technology7,string_field_63 AS programming_language_technology8,string_field_64 AS programming_language_technology9,string_field_65 AS programming_language_technology10,string_field_66 AS programming_language_technology11,string_field_67 AS programming_language_technology12,string_field_68 AS programming_language_technology13,string_field_69 AS programming_language_technology14\n",
            "FROM `fh-bigquery.stackoverflow.survey_results_2013`\n",
            "\n",
            "SELECT string_field_0 AS country,string_field_5 AS years_programming,string_field_6 AS occupation,string_field_7 AS salary,string_field_42 AS programming_language_technology1,string_field_43 AS programming_language_technology2,string_field_44 AS programming_language_technology3,string_field_45 AS programming_language_technology4,string_field_46 AS programming_language_technology5,string_field_47 AS programming_language_technology6,string_field_48 AS programming_language_technology7,string_field_49 AS programming_language_technology8,string_field_50 AS programming_language_technology9,string_field_51 AS programming_language_technology10,string_field_52 AS programming_language_technology11,string_field_53 AS programming_language_technology12\n",
            "FROM `fh-bigquery.stackoverflow.survey_results_2014`\n",
            "\n",
            "SELECT string_field_0 AS country,string_field_4 AS years_programming,string_field_5 AS occupation,string_field_105 AS salary,string_field_8 AS programming_language_technology1,string_field_9 AS programming_language_technology2,string_field_10 AS programming_language_technology3,string_field_11 AS programming_language_technology4,string_field_12 AS programming_language_technology5,string_field_13 AS programming_language_technology6,string_field_14 AS programming_language_technology7,string_field_15 AS programming_language_technology8,string_field_16 AS programming_language_technology9,string_field_17 AS programming_language_technology10,string_field_18 AS programming_language_technology11,string_field_19 AS programming_language_technology12,string_field_20 AS programming_language_technology13,string_field_21 AS programming_language_technology14,string_field_22 AS programming_language_technology15,string_field_23 AS programming_language_technology16,string_field_24 AS programming_language_technology17,string_field_25 AS programming_language_technology18,string_field_26 AS programming_language_technology19,string_field_27 AS programming_language_technology20,string_field_28 AS programming_language_technology21,string_field_29 AS programming_language_technology22,string_field_30 AS programming_language_technology23,string_field_31 AS programming_language_technology24,string_field_32 AS programming_language_technology25,string_field_33 AS programming_language_technology26,string_field_34 AS programming_language_technology27,string_field_35 AS programming_language_technology28,string_field_36 AS programming_language_technology29,string_field_37 AS programming_language_technology30,string_field_38 AS programming_language_technology31,string_field_39 AS programming_language_technology32,string_field_40 AS programming_language_technology33,string_field_41 AS programming_language_technology34,string_field_42 AS programming_language_technology35,string_field_43 AS programming_language_technology36,string_field_44 AS programming_language_technology37,string_field_45 AS programming_language_technology38,string_field_46 AS programming_language_technology39,string_field_47 AS programming_language_technology40,string_field_48 AS programming_language_technology41,string_field_49 AS programming_language_technology42,string_field_50 AS programming_language_technology43\n",
            "FROM `fh-bigquery.stackoverflow.survey_results_2015`\n",
            "\n",
            "SELECT country AS country,experience_range AS years_programming,occupation AS occupation,salary_range AS salary,tech_do AS programming_language_technology1,dev_environment AS programming_language_technology2\n",
            "FROM `fh-bigquery.stackoverflow.survey_results_2016`\n",
            "\n",
            "SELECT Country AS country,YearsProgram AS years_programming,Professional AS occupation,Salary AS salary,HaveWorkedLanguage AS programming_language_technology1,HaveWorkedFramework AS programming_language_technology2,HaveWorkedDatabase AS programming_language_technology3,HaveWorkedPlatform AS programming_language_technology4,IDE AS programming_language_technology5\n",
            "FROM `fh-bigquery.stackoverflow.survey_results_public_2017`\n",
            "\n"
          ],
          "name": "stdout"
        },
        {
          "output_type": "execute_result",
          "data": {
            "text/plain": [
              "[None, None, None, None, None, None, None]"
            ]
          },
          "metadata": {
            "tags": []
          },
          "execution_count": 6
        }
      ]
    },
    {
      "cell_type": "markdown",
      "metadata": {
        "id": "fONdN4ySDrFY",
        "colab_type": "text"
      },
      "source": [
        "### Limpieza de las tablas\n",
        "---\n",
        "\n",
        "Haga una limpieza de los datos identificando los campos comunes entre los conjuntos de datos. (Adjuntar Rutina SQL o Python)"
      ]
    },
    {
      "cell_type": "code",
      "metadata": {
        "id": "1_dzY_E1GBBs",
        "colab_type": "code",
        "colab": {}
      },
      "source": [
        "### FUNCIONES Propias\n",
        "\n",
        "\n",
        "## busqueda_encabezados(dataframe, patron)\n",
        "\n",
        "''' busqueda_encabezados(dataframe, patron)\n",
        "\n",
        "dataframe   (pandas.Dataframe)  dataframe sobre el que se quiere realizar la busqueda\n",
        "patron      (str)               cadena de texto o expresion regular a buscar\n",
        " \n",
        "Esta funcion itera sobre las columnas de un dataframe y \n",
        "busca el patron que el usuario defina\n",
        "\n",
        "'''\n",
        "\n",
        "def busqueda_encabezados(dataframe, patron):\n",
        "  \n",
        "  encabezados = [] # se crea una lista vacia\n",
        "  lista = list(dataframe.columns) # lee las columnas de dataframe\n",
        "  \n",
        "  # se crea el iterador\n",
        "  for elemento in lista: \n",
        "  # se comprueba si el patron esta o no en el elemento\n",
        "    if(re.search(patron,elemento) != None):\n",
        "      # en caso de que este, se anade a la lista\n",
        "      encabezados.append(elemento)\n",
        "    \n",
        "  # se devuelven los resultados    \n",
        "  return encabezados\n",
        "\n",
        "\n",
        "\n",
        "## reemplazar_none\n",
        "\n",
        "''' reemplazar_none(lista, reemplazo = '')\n",
        "\n",
        "lista     (itr)  elemento iterable de texto sobre el que se reemplazar none\n",
        "reemplazo (str)  Defecto '' (vacio) reemplazo que se quiera hacer del none\n",
        " \n",
        "Esta funcion itera sobre los elementos de lista y reemplaza el none o nulos por reemplazo\n",
        "\n",
        "'''\n",
        "\n",
        "def reemplazar_none(lista, reemplazo = ''):\n",
        "  \n",
        "  # vector de elementos a corregir\n",
        "  corregir = [None, 'NA', 'None']\n",
        "  # se crea el iterador\n",
        "  for i,x in enumerate(lista):\n",
        "    \n",
        "    # se reemplaza None por reemplazo\n",
        "    if x in corregir:\n",
        "      lista[i] = reemplazo\n",
        "      \n",
        "    # se reemplazan los Nan (float)\n",
        "    elif type(x) is float:\n",
        "      if np.isnan(x):\n",
        "        lista[i] = reemplazo\n",
        "\n",
        "  # se devuelven los resultados\n",
        "  return lista\n",
        "\n",
        "\n",
        "## limpiar_lenguajes\n",
        "\n",
        "''' limpiar_lenguajes(lista)\n",
        "\n",
        "lista    (itr)  elemento iterable de texto sobre el que se realiza la limpieza\n",
        " \n",
        "Esta funcion itera sobre los elementos de lista\n",
        "uniendo con punto y coma todos los elementos\n",
        "y eliminando los punto y comas seguidos,\n",
        "del principio y del final\n",
        "\n",
        "Ademas, elimina el separador de coma y lo reemplaza por punto y coma\n",
        "\n",
        "'''\n",
        "\n",
        "def limpiar_lenguajes(lista):\n",
        "  \n",
        "  list(lista) # convierte a lista en una lista\n",
        "  string = ';'.join(lista) # unifica la lista en string con punto y coma\n",
        "  string = re.sub(';{2,}', ';', string) # reemplaza todos los punto y coma seguidos\n",
        "  string = re.sub('^;|;$', '', string) # reemplaza punto y coma al principio o al final\n",
        "  string = string.replace(', ', ';') # reemplaza las comas por punto y coma\n",
        "  string = string.replace(',', ';') # reemplaza las comas por punto y coma\n",
        "  string = string.replace('; ', ';')\n",
        "  return string # retorna el string\n",
        "  \n",
        "  \n",
        "  \n",
        "## unificar_lenguajes(dataframe)\n",
        "\n",
        "''' unificar_lenguajes(dataframe)\n",
        "\n",
        "dataframe    (pandas.dataframe)  dataframe al que se van a unificar los lenguajes de programacion\n",
        " \n",
        "Esta funcion identifica las columnas \n",
        "seleccionadas para los lenguajes de programacion\n",
        "y las unifica con un separador de punto y coma\n",
        "eliminando las columnas utilizadas\n",
        "\n",
        "\n",
        "\n",
        "'''\n",
        "\n",
        "def unificar_lenguajes(dataframe):\n",
        "  \n",
        "  encabezados = busqueda_encabezados(dataframe,'^programming_*') # identifica los encabezados\n",
        "  df = dataframe[encabezados] # filtra el dataframe\n",
        "  df = df.apply(reemplazar_none) # limpia los none o nulos\n",
        "  dataframe['programming_language'] = df.apply(limpiar_lenguajes, axis = 1) # crea la nueva columna de lenguajes de programacion\n",
        "  dataframe = dataframe.drop(columns = encabezados) # elimina las columnas no necesarias\n",
        "  return dataframe # devuelve el dataframe"
      ],
      "execution_count": 0,
      "outputs": []
    },
    {
      "cell_type": "code",
      "metadata": {
        "id": "GCcuXLeHCC9t",
        "colab_type": "code",
        "outputId": "f769cac6-7138-48e5-a73f-c8a61ba41564",
        "colab": {
          "base_uri": "https://localhost:8080/",
          "height": 136
        }
      },
      "source": [
        "# crear lista para leer las encuestas\n",
        "lista_encuestas = ['encuesta_' + str(i) for i in range(2011,2018)]\n",
        "lista_encuestas"
      ],
      "execution_count": 0,
      "outputs": [
        {
          "output_type": "execute_result",
          "data": {
            "text/plain": [
              "['encuesta_2011',\n",
              " 'encuesta_2012',\n",
              " 'encuesta_2013',\n",
              " 'encuesta_2014',\n",
              " 'encuesta_2015',\n",
              " 'encuesta_2016',\n",
              " 'encuesta_2017']"
            ]
          },
          "metadata": {
            "tags": []
          },
          "execution_count": 8
        }
      ]
    },
    {
      "cell_type": "code",
      "metadata": {
        "id": "go0CKSD_I5JZ",
        "colab_type": "code",
        "colab": {}
      },
      "source": [
        "## INICIO LECTURA\n",
        "\n",
        "for i, encuesta in enumerate(lista_encuestas):\n",
        "  \n",
        "  consulta = cliente.query(queries_comunes[i]) # hacer consulta\n",
        "  resultado = consulta.result() # traer resultados\n",
        "  lista_encuestas[i] = resultado.to_dataframe() # convertir a dataframe\n",
        "\n",
        "## FIN LECTURA"
      ],
      "execution_count": 0,
      "outputs": []
    },
    {
      "cell_type": "code",
      "metadata": {
        "id": "bcC3KxIAI-jP",
        "colab_type": "code",
        "colab": {}
      },
      "source": [
        "## INICIO LIMPIEZA DE LENGUAJES\n",
        "\n",
        "filas = [2,2,1,2,0,0,0]\n",
        "\n",
        "for i, encuesta in enumerate(lista_encuestas):\n",
        "  \n",
        "    encuesta2 = unificar_lenguajes(encuesta)\n",
        "    lista_encuestas[i] = encuesta2[filas[i]:]\n",
        "    \n",
        "## FIN LIMPIEZA DE LENGUAJES"
      ],
      "execution_count": 0,
      "outputs": []
    },
    {
      "cell_type": "code",
      "metadata": {
        "id": "yYzg5Z8JJYq8",
        "colab_type": "code",
        "colab": {}
      },
      "source": [
        "# unificar encuestas en un solo dataframe\n",
        "\n",
        "encuestas = pd.concat(lista_encuestas, \n",
        "                      keys = list(range(2011,2018)),\n",
        "                      sort = False,\n",
        "                     )\n",
        "\n",
        "# eliminar otros datos\n",
        "encuestas = encuestas[encuestas['salary'] != 'Response']"
      ],
      "execution_count": 0,
      "outputs": []
    },
    {
      "cell_type": "code",
      "metadata": {
        "id": "nEQcz0KbK0if",
        "colab_type": "code",
        "colab": {}
      },
      "source": [
        "# organizar dataframe con columna de encuestas\n",
        "encuestas = encuestas.reset_index(level = 0) # agrega el anio como columna\n",
        "encuestas = encuestas.rename(columns = {'level_0':'survey'}) # modifica el nombre de la columna a survey\n",
        "encuestas = encuestas.reset_index(drop = True) # reinicia los indices sin agregarlos como columnas"
      ],
      "execution_count": 0,
      "outputs": []
    },
    {
      "cell_type": "code",
      "metadata": {
        "id": "Oftd9bRIPjr5",
        "colab_type": "code",
        "outputId": "2b4a045b-9aba-4221-ddc6-75e69eb50b5a",
        "colab": {
          "base_uri": "https://localhost:8080/",
          "height": 359
        }
      },
      "source": [
        "encuestas.head(10)"
      ],
      "execution_count": 0,
      "outputs": [
        {
          "output_type": "execute_result",
          "data": {
            "text/html": [
              "<div>\n",
              "<style scoped>\n",
              "    .dataframe tbody tr th:only-of-type {\n",
              "        vertical-align: middle;\n",
              "    }\n",
              "\n",
              "    .dataframe tbody tr th {\n",
              "        vertical-align: top;\n",
              "    }\n",
              "\n",
              "    .dataframe thead th {\n",
              "        text-align: right;\n",
              "    }\n",
              "</style>\n",
              "<table border=\"1\" class=\"dataframe\">\n",
              "  <thead>\n",
              "    <tr style=\"text-align: right;\">\n",
              "      <th></th>\n",
              "      <th>survey</th>\n",
              "      <th>country</th>\n",
              "      <th>years_programming</th>\n",
              "      <th>occupation</th>\n",
              "      <th>salary</th>\n",
              "      <th>programming_language</th>\n",
              "    </tr>\n",
              "  </thead>\n",
              "  <tbody>\n",
              "    <tr>\n",
              "      <th>0</th>\n",
              "      <td>2011</td>\n",
              "      <td>Germany</td>\n",
              "      <td>None</td>\n",
              "      <td>None</td>\n",
              "      <td>None</td>\n",
              "      <td></td>\n",
              "    </tr>\n",
              "    <tr>\n",
              "      <th>1</th>\n",
              "      <td>2011</td>\n",
              "      <td>United States of America</td>\n",
              "      <td>11</td>\n",
              "      <td>Web Services</td>\n",
              "      <td>None</td>\n",
              "      <td></td>\n",
              "    </tr>\n",
              "    <tr>\n",
              "      <th>2</th>\n",
              "      <td>2011</td>\n",
              "      <td>Other Europe</td>\n",
              "      <td>41310</td>\n",
              "      <td>Education</td>\n",
              "      <td>None</td>\n",
              "      <td></td>\n",
              "    </tr>\n",
              "    <tr>\n",
              "      <th>3</th>\n",
              "      <td>2011</td>\n",
              "      <td>Australia</td>\n",
              "      <td>&lt;2</td>\n",
              "      <td>Other</td>\n",
              "      <td>None</td>\n",
              "      <td></td>\n",
              "    </tr>\n",
              "    <tr>\n",
              "      <th>4</th>\n",
              "      <td>2011</td>\n",
              "      <td>United Kingdom</td>\n",
              "      <td>41310</td>\n",
              "      <td>Software Products</td>\n",
              "      <td>None</td>\n",
              "      <td></td>\n",
              "    </tr>\n",
              "    <tr>\n",
              "      <th>5</th>\n",
              "      <td>2011</td>\n",
              "      <td>Africa</td>\n",
              "      <td>None</td>\n",
              "      <td>None</td>\n",
              "      <td>None</td>\n",
              "      <td></td>\n",
              "    </tr>\n",
              "    <tr>\n",
              "      <th>6</th>\n",
              "      <td>2011</td>\n",
              "      <td>Other Europe</td>\n",
              "      <td>41310</td>\n",
              "      <td>Other</td>\n",
              "      <td>None</td>\n",
              "      <td></td>\n",
              "    </tr>\n",
              "    <tr>\n",
              "      <th>7</th>\n",
              "      <td>2011</td>\n",
              "      <td>United Kingdom</td>\n",
              "      <td>None</td>\n",
              "      <td>None</td>\n",
              "      <td>None</td>\n",
              "      <td></td>\n",
              "    </tr>\n",
              "    <tr>\n",
              "      <th>8</th>\n",
              "      <td>2011</td>\n",
              "      <td>United States of America</td>\n",
              "      <td>None</td>\n",
              "      <td>None</td>\n",
              "      <td>None</td>\n",
              "      <td></td>\n",
              "    </tr>\n",
              "    <tr>\n",
              "      <th>9</th>\n",
              "      <td>2011</td>\n",
              "      <td>Other Europe</td>\n",
              "      <td>41310</td>\n",
              "      <td>Software Products</td>\n",
              "      <td>None</td>\n",
              "      <td></td>\n",
              "    </tr>\n",
              "  </tbody>\n",
              "</table>\n",
              "</div>"
            ],
            "text/plain": [
              "   survey                   country  ... salary programming_language\n",
              "0    2011                   Germany  ...   None                     \n",
              "1    2011  United States of America  ...   None                     \n",
              "2    2011              Other Europe  ...   None                     \n",
              "3    2011                 Australia  ...   None                     \n",
              "4    2011            United Kingdom  ...   None                     \n",
              "5    2011                    Africa  ...   None                     \n",
              "6    2011              Other Europe  ...   None                     \n",
              "7    2011            United Kingdom  ...   None                     \n",
              "8    2011  United States of America  ...   None                     \n",
              "9    2011              Other Europe  ...   None                     \n",
              "\n",
              "[10 rows x 6 columns]"
            ]
          },
          "metadata": {
            "tags": []
          },
          "execution_count": 13
        }
      ]
    },
    {
      "cell_type": "code",
      "metadata": {
        "id": "CR7G5bFmyLd2",
        "colab_type": "code",
        "colab": {}
      },
      "source": [
        "# limpiar filas innecesarias\n",
        "filter = encuestas['years_programming'].str.contains('^Years|^Response', na = False, regex = True)\n",
        "encuestas = encuestas[~filter]"
      ],
      "execution_count": 0,
      "outputs": []
    },
    {
      "cell_type": "code",
      "metadata": {
        "id": "0ycYmHAfmKrP",
        "colab_type": "code",
        "colab": {}
      },
      "source": [
        "# limpiar lenguajes 2\n",
        "lenguajes = ['Javascript', 'C#', 'Java', 'Notepad++', 'Sql', 'Android', 'Angularjs', 'C', 'C++', 'Php',\n",
        "             'Sql Server', 'Atom', 'Python', 'Sublime', 'Node.Js', 'Vim', 'Windows Desktop', 'Mongodb',\n",
        "             'Mysql', 'Azure', 'Gae', 'Sublime Text', 'Visual Studio', 'Ios', 'Objective-C', 'Jquery',\n",
        "             'Css', 'Ruby', 'Arduino / Raspberry Pi', 'Linux Desktop', 'Emacs', 'Redis', '.Net Core',\n",
        "             'Wordpress', 'Eclipse', 'Android Studio', 'Html5', 'Lamp', 'Coffeescript', 'Perl',\n",
        "             'Amazon Web Services', 'Assembly', 'C++11', 'Postgresql', 'Visual Basic', 'Intellij',\n",
        "             'Go', 'Cassandra', 'Hadoop', 'Matlab', 'R', 'Cordova', 'Mac Os', 'Sqlite', 'Oracle',\n",
        "             'Windows Phone', 'React', 'Scala', 'Swift', 'Xcode', 'Groovy', 'Haskell', 'Phpstorm',\n",
        "             'Xamarin', 'Clojure', 'Sharepoint', 'Netbeans']\n",
        "\n",
        "patron = '^ |\\\\(.*\\\\)|.*[Ff]uck.*| $'\n",
        "\n",
        "prueba = encuestas['programming_language']\n",
        "prueba2 = [re.sub(patron,'',a).replace('; ',';') for a in prueba]\n",
        "prueba3 = [a.split(';') for a in prueba2]\n",
        "\n",
        "for j,a in enumerate(prueba3):\n",
        "  \n",
        "  if type(a) is list:\n",
        "    \n",
        "    for i,lan in enumerate(a):\n",
        "      \n",
        "      lan = lan.upper().title()\n",
        "      lan = re.sub(patron,'',lan)\n",
        "      \n",
        "      if lan == '':\n",
        "        a[i] = 'No language'\n",
        "        \n",
        "      elif lan not in lenguajes:\n",
        "        a[i] = 'Other'\n",
        "      \n",
        "      else:\n",
        "        a[i] = lan\n",
        "  \n",
        "  else:\n",
        "    a = a.upper().title()\n",
        "    a = re.sub(patron,'',a)\n",
        "  \n",
        "    if a == '':\n",
        "      prueba3[j] = 'No language'\n",
        "\n",
        "    elif a == ['']:\n",
        "      prueba3[j] = 'No language'\n",
        "\n",
        "    elif a not in lenguajes:\n",
        "      prueba3[j] == 'Other'\n",
        "      \n",
        "    else:\n",
        "      prueba3[j] = a\n",
        "      \n",
        "prueba3 = [';'.join(a) for a in prueba3]\n",
        "encuestas['programming_language'] = prueba3"
      ],
      "execution_count": 0,
      "outputs": []
    },
    {
      "cell_type": "code",
      "metadata": {
        "id": "12bgGuClNXFg",
        "colab_type": "code",
        "colab": {}
      },
      "source": [
        "# Limpiar experiencia\n",
        "\n",
        "lista = list(encuestas['years_programming'])\n",
        "\n",
        "lista1 = reemplazar_none(lista, reemplazo = 'Rather not say')\n",
        "\n",
        "for i,fecha in enumerate(lista1):\n",
        "    \n",
        "  if ((fecha == \"41310\") or (fecha == \"40944\") or (fecha == \"2/5/2013\") or (fecha==\"2/5/2014\") or (fecha == \"2 - 5 years\" ) or (fecha==\"5 to 6 years\")\n",
        "       or (fecha == \"2 to 3 years\") or (fecha==\"3 to 4 years\") or (fecha==\"4 to 5 years\")):\n",
        "      \n",
        "    lista1[i] = \"2 to 5 years\"\n",
        "      \n",
        "  elif ((fecha == \"<2\") or (fecha == \"1 to 2 years\") or (fecha == \"1 - 2 years\")\n",
        "         or (fecha == \"Less than 1 year\") or (fecha == \"Less than a year\")):\n",
        "      \n",
        "    lista1[i] = \"Less than 2 years\"\n",
        "      \n",
        "  elif ((fecha == \"41435\") or (fecha == \"41070\") or (fecha == \"6/10/2013\") or (fecha == \"6/10/2014\") or (fecha == \"2 - 5 years\" )\n",
        "         or (fecha == \"6 - 10 years\") or (fecha==\"6 to 7 years\") or (fecha==\"7 to 8 years\")\n",
        "         or(fecha ==\"8 to 9 years \") or (fecha == \"9 to 10 years\") or (fecha == \"10 to 11 years\")):\n",
        "      \n",
        "    lista1[i] = \"6 to 10 years\"\n",
        "  \n",
        "  elif fecha == 'Rather not say':\n",
        "    lista1[i] = fecha\n",
        "  \n",
        "  else:\n",
        "    lista1[i] = \"11 or more years\"\n",
        "  \n",
        "\n",
        "encuestas['years_programming'] = lista1\n"
      ],
      "execution_count": 0,
      "outputs": []
    },
    {
      "cell_type": "code",
      "metadata": {
        "id": "VxoyY89JhvRZ",
        "colab_type": "code",
        "colab": {}
      },
      "source": [
        "# limpiar salario\n",
        "lista = list(encuestas['salary'])\n",
        "\n",
        "# limpiar nulos por 0\n",
        "lista3 = reemplazar_none(lista, reemplazo = 'Rather not say')\n",
        "\n",
        "# se crea un iterador para clasificar por intervalos\n",
        "for i,a in enumerate(lista3):\n",
        "  \n",
        "  # se evalua si el salario es un float\n",
        "  try:\n",
        "    a = float(a)\n",
        "    \n",
        "    if a == 0.0:\n",
        "      lista3[i] = '0'\n",
        "      \n",
        "    elif a < 20000:\n",
        "      lista3[i] = '120K - 140K'\n",
        "\n",
        "    elif a < 40000:\n",
        "      lista3[i] = '20K - 40K'\n",
        "\n",
        "    elif a < 60000:\n",
        "      lista3[i] = '40K - 60K'\n",
        "\n",
        "    elif a < 80000:\n",
        "      lista3[i] = '60K - 80K'\n",
        "      \n",
        "    elif a < 100000:\n",
        "      lista3[i] = '80K - 100K'\n",
        "      \n",
        "    elif a < 120000:\n",
        "      lista3[i] = '100K - 120K'\n",
        "      \n",
        "    elif a < 140000:\n",
        "      lista3[i] = '120K - 140K'\n",
        "      \n",
        "    else:\n",
        "      lista3[i] = 'More than 140K'\n",
        "\n",
        "  # en caso de no ser float, se identifican los casos y se reemplaza\n",
        "  except:   \n",
        "    if type(a) is not float:\n",
        "    \n",
        "      if (a in ['Compensation', 'Other (please specify)', 'Rather not say', \n",
        "                'Student / Unemployed', 'Unemployed', '0', 'Response']):\n",
        "        lista3[i] = 'Rather not say'\n",
        "\n",
        "      elif a in ['Less than $10,000', 'Less than $20,000', '$10,000 - $20,000', '<$20,000']:\n",
        "        lista3[i] = 'Less than 20K'\n",
        "\n",
        "      elif (a in ['More than $160,000', 'More than $200,000', '>$140,000', '$140,000 - $150,000', \n",
        "                  '$140,000 - $160,000', '$150,000 - $160,000', '$160,000 - $170,000', \n",
        "                  '$170,000 - $180,000', '$180,000 - $190,000', '$190,000 - $200,000',]):\n",
        "        lista3[i] = 'More than 140K'\n",
        "\n",
        "      elif a in ['$100,000 - $110,000', '$110,000 - $120,000']:\n",
        "        lista3[i] = '100K - 120K'\n",
        "\n",
        "      elif a in ['$120,000 - $130,000', '$130,000 - $140,000']:\n",
        "        lista3[i] = '120K - 140K'\n",
        "\n",
        "      elif a in ['$20,000 - $30,000', '$30,000 - $40,000']:\n",
        "        lista3[i] = '20K - 40K'\n",
        "\n",
        "      elif a in ['$40,000 - $50,000', '$50,000 - $60,000']:\n",
        "        lista3[i] = '40K - 60K'\n",
        "\n",
        "      elif a in ['$60,000 - $70,000', '$70,000 - $80,000']:\n",
        "        lista3[i] = '60K - 80K'\n",
        "\n",
        "      elif a in ['$80,000 - $90,000', '$90,000 - $100,000']:\n",
        "        lista3[i] = '80K - 100K'\n",
        "\n",
        "      else:      \n",
        "        lista3[i] = a.replace('$','').replace(',000','K')\n",
        "\n",
        "# se devuelve la correccion        \n",
        "encuestas['salary'] = lista3"
      ],
      "execution_count": 0,
      "outputs": []
    },
    {
      "cell_type": "code",
      "metadata": {
        "id": "0w5VNXhrDc5W",
        "colab_type": "code",
        "colab": {}
      },
      "source": [
        "# limpiar ocupaciones\n",
        "\n",
        "lista = list(encuestas['occupation'])\n",
        "\n",
        "# reemplazar nulos\n",
        "lista2 = reemplazar_none(lista,'None of these')\n",
        "\n",
        "# organizar mayusculas y minusculas\n",
        "lista3 = [a.replace('.','').upper().title() for a in lista2]\n",
        "\n",
        "# crear un iterador para resolver algunos casos puntuales\n",
        "for i,a in enumerate(lista3):\n",
        "  \n",
        "  if a in ['Mobile Developer - Android', 'Mobile Developer - Ios', 'Mobile Developer - Windows Phone','Mobile Application Developer']:\n",
        "    lista3[i] = 'Mobile Developer'\n",
        "  \n",
        "  elif a == 'Desktop Software Developer':\n",
        "    lista3[i] = 'Desktop Developer'\n",
        "\n",
        "  elif a == 'None Of These' or a == \"I Don'T Work In Tech\" or a == 'None':\n",
        "    lista3[i] = 'Other'\n",
        "    \n",
        "  elif a == 'Enterprise Level Services Developer':\n",
        "    lista3[i] = 'Enterprise Level Services'\n",
        "\n",
        "# se devuelve la correccion    \n",
        "encuestas['occupation'] = lista3"
      ],
      "execution_count": 0,
      "outputs": []
    },
    {
      "cell_type": "code",
      "metadata": {
        "id": "4pz05Q_dFl3N",
        "colab_type": "code",
        "colab": {}
      },
      "source": [
        "# limpiar paises\n",
        "\n",
        "lista = list(encuestas['country'])\n",
        "\n",
        "# reemplazar nulos\n",
        "lista = reemplazar_none(lista, 'I prefer not to say')\n",
        "\n",
        "# arreglar mayusculas y minusculas\n",
        "lista = [a.title() for a in lista]\n",
        "\n",
        "# iterador sobre errores de algunos paises\n",
        "for i,a in enumerate(lista):\n",
        "  \n",
        "  if a == 'Azerbaidjan':\n",
        "    lista[i] = 'Azerbaijan'\n",
        "    \n",
        "  elif a in ['Bosnia Herzegovina', 'Bosnia and Herzegovina', 'Bosnia-Herzegovina',]:\n",
        "    lista[i] = 'Bosnia And Herzegovina'\n",
        "    \n",
        "  elif a == 'Brunei Darussalam':\n",
        "    lista[i] = 'Brunei'\n",
        "    \n",
        "  elif a == 'Burkina':\n",
        "    lista[i] = 'Burkina Faso'\n",
        "    \n",
        "  elif a == 'Ireland {Republic}':\n",
        "    lista[i] = 'Ireland'\n",
        "    \n",
        "  elif a == \"Ivory Coast (Cote D'Ivoire)\":\n",
        "    lista[i] = 'Ivory Coast'\n",
        "    \n",
        "  elif a == 'Korea North':\n",
        "    lista[i] = 'North Korea'\n",
        "    \n",
        "  elif a == 'Korea South':\n",
        "    lista[i] = 'South Korea'\n",
        "    \n",
        "  elif a == 'Macedonia [Fyrom]':\n",
        "    lista[i] = 'Macedonia'\n",
        "    \n",
        "  elif a in ['Myanmar [Burma]', 'Myanmar, {Burma}',]:\n",
        "    lista[i] = 'Macedonia'\n",
        "    \n",
        "  elif a in ['N/A', 'Other', 'Other (Please Specify)']:\n",
        "    lista[i] = 'I Prefer Not To Say'\n",
        "    \n",
        "  elif a == 'Russian Federation':\n",
        "    lista[i] = 'Russia'\n",
        "             \n",
        "  elif a == 'Tadjikistan':\n",
        "    lista[i] = 'Tajikistan'\n",
        "             \n",
        "  elif a == 'Trinidad & Tobago':\n",
        "    lista[i] = 'Trinidad And Tobago'\n",
        "\n",
        "  elif a == 'United States':\n",
        "    lista[i] = 'United States Of America'\n",
        "    \n",
        "  elif a == 'Vatican City State':\n",
        "    lista[i] = 'Vatican City'         \n",
        "             \n",
        "# se devuelve la correccion\n",
        "encuestas['country'] = lista"
      ],
      "execution_count": 0,
      "outputs": []
    },
    {
      "cell_type": "code",
      "metadata": {
        "id": "P9aKAgKNLwEx",
        "colab_type": "code",
        "colab": {}
      },
      "source": [
        "encuestas.to_csv('Archivos_SBDM_20191/encuestas_organizadas-v1-20110101-20171231.csv', \n",
        "                 sep = ',', \n",
        "                 encoding = 'utf8',\n",
        "                 index = False\n",
        "                )"
      ],
      "execution_count": 0,
      "outputs": []
    },
    {
      "cell_type": "markdown",
      "metadata": {
        "id": "GWCymqs-Ohvk",
        "colab_type": "text"
      },
      "source": [
        "### SQL\n",
        "---\n",
        "Genere una Bodega de datos que permita responder al menos 15 preguntas elaboradas por el equipo. (Adjunte las 15 preguntas con las 15 consultas SQL que respondan a las preguntas y la respectiva gráfica)"
      ]
    },
    {
      "cell_type": "markdown",
      "metadata": {
        "id": "05HSGJlxA5YM",
        "colab_type": "text"
      },
      "source": [
        "**Nota:** se graba el archivo como encuestas_organizadas-v1-20110101-20171231.csv en la sección anterior, por lo que si ya se ejecutó una vez, se puede leer la tabla directamente en esta sección. Es necesario cargar las *librerías* y las *funciones propias.*\n",
        "\n",
        "*   Elemento de la lista\n",
        "*   Elemento de la lista\n",
        "\n",
        "\n",
        "\n"
      ]
    },
    {
      "cell_type": "code",
      "metadata": {
        "id": "VBFOrkl6AlQ2",
        "colab_type": "code",
        "outputId": "b8a20e83-6840-43cc-c7b0-58d1d5b758f3",
        "colab": {
          "base_uri": "https://localhost:8080/",
          "height": 375
        }
      },
      "source": [
        "# leer encuestas\n",
        "encuestas = pd.read_csv('Archivos_SBDM_20191/encuestas_organizadas-v1-20110101-20171231.csv', \n",
        "                        sep = ',', \n",
        "                        encoding = 'utf8'\n",
        "                       ).drop(columns = ['Unnamed: 0'])\n",
        "\n",
        "encuestas"
      ],
      "execution_count": 0,
      "outputs": [
        {
          "output_type": "error",
          "ename": "KeyError",
          "evalue": "ignored",
          "traceback": [
            "\u001b[0;31m---------------------------------------------------------------------------\u001b[0m",
            "\u001b[0;31mKeyError\u001b[0m                                  Traceback (most recent call last)",
            "\u001b[0;32m<ipython-input-27-073551372a36>\u001b[0m in \u001b[0;36m<module>\u001b[0;34m()\u001b[0m\n\u001b[1;32m      2\u001b[0m                         \u001b[0msep\u001b[0m \u001b[0;34m=\u001b[0m \u001b[0;34m','\u001b[0m\u001b[0;34m,\u001b[0m\u001b[0;34m\u001b[0m\u001b[0;34m\u001b[0m\u001b[0m\n\u001b[1;32m      3\u001b[0m                         \u001b[0mencoding\u001b[0m \u001b[0;34m=\u001b[0m \u001b[0;34m'utf8'\u001b[0m\u001b[0;34m\u001b[0m\u001b[0;34m\u001b[0m\u001b[0m\n\u001b[0;32m----> 4\u001b[0;31m                        ).drop(columns = ['Unnamed: 0'])\n\u001b[0m\u001b[1;32m      5\u001b[0m \u001b[0;34m\u001b[0m\u001b[0m\n\u001b[1;32m      6\u001b[0m \u001b[0mencuestas\u001b[0m\u001b[0;34m\u001b[0m\u001b[0;34m\u001b[0m\u001b[0m\n",
            "\u001b[0;32m/usr/local/lib/python3.6/dist-packages/pandas/core/frame.py\u001b[0m in \u001b[0;36mdrop\u001b[0;34m(self, labels, axis, index, columns, level, inplace, errors)\u001b[0m\n\u001b[1;32m   3938\u001b[0m                                            \u001b[0mindex\u001b[0m\u001b[0;34m=\u001b[0m\u001b[0mindex\u001b[0m\u001b[0;34m,\u001b[0m \u001b[0mcolumns\u001b[0m\u001b[0;34m=\u001b[0m\u001b[0mcolumns\u001b[0m\u001b[0;34m,\u001b[0m\u001b[0;34m\u001b[0m\u001b[0;34m\u001b[0m\u001b[0m\n\u001b[1;32m   3939\u001b[0m                                            \u001b[0mlevel\u001b[0m\u001b[0;34m=\u001b[0m\u001b[0mlevel\u001b[0m\u001b[0;34m,\u001b[0m \u001b[0minplace\u001b[0m\u001b[0;34m=\u001b[0m\u001b[0minplace\u001b[0m\u001b[0;34m,\u001b[0m\u001b[0;34m\u001b[0m\u001b[0;34m\u001b[0m\u001b[0m\n\u001b[0;32m-> 3940\u001b[0;31m                                            errors=errors)\n\u001b[0m\u001b[1;32m   3941\u001b[0m \u001b[0;34m\u001b[0m\u001b[0m\n\u001b[1;32m   3942\u001b[0m     @rewrite_axis_style_signature('mapper', [('copy', True),\n",
            "\u001b[0;32m/usr/local/lib/python3.6/dist-packages/pandas/core/generic.py\u001b[0m in \u001b[0;36mdrop\u001b[0;34m(self, labels, axis, index, columns, level, inplace, errors)\u001b[0m\n\u001b[1;32m   3778\u001b[0m         \u001b[0;32mfor\u001b[0m \u001b[0maxis\u001b[0m\u001b[0;34m,\u001b[0m \u001b[0mlabels\u001b[0m \u001b[0;32min\u001b[0m \u001b[0maxes\u001b[0m\u001b[0;34m.\u001b[0m\u001b[0mitems\u001b[0m\u001b[0;34m(\u001b[0m\u001b[0;34m)\u001b[0m\u001b[0;34m:\u001b[0m\u001b[0;34m\u001b[0m\u001b[0;34m\u001b[0m\u001b[0m\n\u001b[1;32m   3779\u001b[0m             \u001b[0;32mif\u001b[0m \u001b[0mlabels\u001b[0m \u001b[0;32mis\u001b[0m \u001b[0;32mnot\u001b[0m \u001b[0;32mNone\u001b[0m\u001b[0;34m:\u001b[0m\u001b[0;34m\u001b[0m\u001b[0;34m\u001b[0m\u001b[0m\n\u001b[0;32m-> 3780\u001b[0;31m                 \u001b[0mobj\u001b[0m \u001b[0;34m=\u001b[0m \u001b[0mobj\u001b[0m\u001b[0;34m.\u001b[0m\u001b[0m_drop_axis\u001b[0m\u001b[0;34m(\u001b[0m\u001b[0mlabels\u001b[0m\u001b[0;34m,\u001b[0m \u001b[0maxis\u001b[0m\u001b[0;34m,\u001b[0m \u001b[0mlevel\u001b[0m\u001b[0;34m=\u001b[0m\u001b[0mlevel\u001b[0m\u001b[0;34m,\u001b[0m \u001b[0merrors\u001b[0m\u001b[0;34m=\u001b[0m\u001b[0merrors\u001b[0m\u001b[0;34m)\u001b[0m\u001b[0;34m\u001b[0m\u001b[0;34m\u001b[0m\u001b[0m\n\u001b[0m\u001b[1;32m   3781\u001b[0m \u001b[0;34m\u001b[0m\u001b[0m\n\u001b[1;32m   3782\u001b[0m         \u001b[0;32mif\u001b[0m \u001b[0minplace\u001b[0m\u001b[0;34m:\u001b[0m\u001b[0;34m\u001b[0m\u001b[0;34m\u001b[0m\u001b[0m\n",
            "\u001b[0;32m/usr/local/lib/python3.6/dist-packages/pandas/core/generic.py\u001b[0m in \u001b[0;36m_drop_axis\u001b[0;34m(self, labels, axis, level, errors)\u001b[0m\n\u001b[1;32m   3810\u001b[0m                 \u001b[0mnew_axis\u001b[0m \u001b[0;34m=\u001b[0m \u001b[0maxis\u001b[0m\u001b[0;34m.\u001b[0m\u001b[0mdrop\u001b[0m\u001b[0;34m(\u001b[0m\u001b[0mlabels\u001b[0m\u001b[0;34m,\u001b[0m \u001b[0mlevel\u001b[0m\u001b[0;34m=\u001b[0m\u001b[0mlevel\u001b[0m\u001b[0;34m,\u001b[0m \u001b[0merrors\u001b[0m\u001b[0;34m=\u001b[0m\u001b[0merrors\u001b[0m\u001b[0;34m)\u001b[0m\u001b[0;34m\u001b[0m\u001b[0;34m\u001b[0m\u001b[0m\n\u001b[1;32m   3811\u001b[0m             \u001b[0;32melse\u001b[0m\u001b[0;34m:\u001b[0m\u001b[0;34m\u001b[0m\u001b[0;34m\u001b[0m\u001b[0m\n\u001b[0;32m-> 3812\u001b[0;31m                 \u001b[0mnew_axis\u001b[0m \u001b[0;34m=\u001b[0m \u001b[0maxis\u001b[0m\u001b[0;34m.\u001b[0m\u001b[0mdrop\u001b[0m\u001b[0;34m(\u001b[0m\u001b[0mlabels\u001b[0m\u001b[0;34m,\u001b[0m \u001b[0merrors\u001b[0m\u001b[0;34m=\u001b[0m\u001b[0merrors\u001b[0m\u001b[0;34m)\u001b[0m\u001b[0;34m\u001b[0m\u001b[0;34m\u001b[0m\u001b[0m\n\u001b[0m\u001b[1;32m   3813\u001b[0m             \u001b[0mresult\u001b[0m \u001b[0;34m=\u001b[0m \u001b[0mself\u001b[0m\u001b[0;34m.\u001b[0m\u001b[0mreindex\u001b[0m\u001b[0;34m(\u001b[0m\u001b[0;34m**\u001b[0m\u001b[0;34m{\u001b[0m\u001b[0maxis_name\u001b[0m\u001b[0;34m:\u001b[0m \u001b[0mnew_axis\u001b[0m\u001b[0;34m}\u001b[0m\u001b[0;34m)\u001b[0m\u001b[0;34m\u001b[0m\u001b[0;34m\u001b[0m\u001b[0m\n\u001b[1;32m   3814\u001b[0m \u001b[0;34m\u001b[0m\u001b[0m\n",
            "\u001b[0;32m/usr/local/lib/python3.6/dist-packages/pandas/core/indexes/base.py\u001b[0m in \u001b[0;36mdrop\u001b[0;34m(self, labels, errors)\u001b[0m\n\u001b[1;32m   4963\u001b[0m             \u001b[0;32mif\u001b[0m \u001b[0merrors\u001b[0m \u001b[0;34m!=\u001b[0m \u001b[0;34m'ignore'\u001b[0m\u001b[0;34m:\u001b[0m\u001b[0;34m\u001b[0m\u001b[0;34m\u001b[0m\u001b[0m\n\u001b[1;32m   4964\u001b[0m                 raise KeyError(\n\u001b[0;32m-> 4965\u001b[0;31m                     '{} not found in axis'.format(labels[mask]))\n\u001b[0m\u001b[1;32m   4966\u001b[0m             \u001b[0mindexer\u001b[0m \u001b[0;34m=\u001b[0m \u001b[0mindexer\u001b[0m\u001b[0;34m[\u001b[0m\u001b[0;34m~\u001b[0m\u001b[0mmask\u001b[0m\u001b[0;34m]\u001b[0m\u001b[0;34m\u001b[0m\u001b[0;34m\u001b[0m\u001b[0m\n\u001b[1;32m   4967\u001b[0m         \u001b[0;32mreturn\u001b[0m \u001b[0mself\u001b[0m\u001b[0;34m.\u001b[0m\u001b[0mdelete\u001b[0m\u001b[0;34m(\u001b[0m\u001b[0mindexer\u001b[0m\u001b[0;34m)\u001b[0m\u001b[0;34m\u001b[0m\u001b[0;34m\u001b[0m\u001b[0m\n",
            "\u001b[0;31mKeyError\u001b[0m: \"['Unnamed: 0'] not found in axis\""
          ]
        }
      ]
    },
    {
      "cell_type": "code",
      "metadata": {
        "id": "0Pd9uZ_igMDJ",
        "colab_type": "code",
        "outputId": "0274e5e1-c957-4f1c-8aaa-039626bf3c7a",
        "colab": {
          "base_uri": "https://localhost:8080/",
          "height": 336
        }
      },
      "source": [
        "# query 0\n",
        "# cuantas personas respondieron cada encuesta\n",
        "\n",
        "consulta0 = encuestas.groupby('survey').count()['country']\n",
        "plt.figure(figsize = (11,5))\n",
        "plt.plot(list(consulta0));\n",
        "plt.xticks(ticks = range(0, 7), labels = range(2011, 2018),)\n",
        "plt.title('Cantidad de respuestas por año de encuesta', weight = 'bold', size = 12);\n",
        "\n",
        "for i, x in enumerate(consulta0):\n",
        "  plt.text(i - 0.2, x + 900, str(x))\n",
        "  \n",
        "# guardar grafica\n",
        "plt.savefig('Archivos_SBDM_20191/query0.PNG', bbox_inches = Bbox([[0,0],[11,5]]))"
      ],
      "execution_count": 0,
      "outputs": [
        {
          "output_type": "display_data",
          "data": {
            "image/png": "[encoded data removed]",
            "text/plain": [
              "<Figure size 792x360 with 1 Axes>"
            ]
          },
          "metadata": {
            "tags": []
          }
        }
      ]
    },
    {
      "cell_type": "code",
      "metadata": {
        "id": "U8wy-Rf6O4jI",
        "colab_type": "code",
        "colab": {}
      },
      "source": [
        "# query 1\n",
        "# cuantos programadores respondieron por los 10 primeros paises\n",
        "\n",
        "# generar tabla para la pregunta\n",
        "consulta1 = (encuestas\n",
        "             .groupby(['country',])\n",
        "             .count()['occupation']\n",
        "             .sort_values(ascending = False)[:10]\n",
        "             .sort_values()\n",
        "            )\n",
        "\n",
        "#graficar\n",
        "plt.figure(figsize = (12, 8)) # establecer tamano\n",
        "plt.barh(y = consulta1.index, width = consulta1) # barras\n",
        "plt.title('Top 10 países con más respuestas de encuestas', weight = 'bold'); # editar titulo\n",
        "\n",
        "# guardar grafica\n",
        "plt.savefig('Archivos_SBDM_20191/query1.PNG', bbox_inches = Bbox([[-1,0],[12,8]]))"
      ],
      "execution_count": 0,
      "outputs": []
    },
    {
      "cell_type": "code",
      "metadata": {
        "id": "yMODBOFeclia",
        "colab_type": "code",
        "colab": {}
      },
      "source": [
        "# query 2 Jhon \n",
        "# cuantos son los programadores que dominan cada uno de los lenguajes\n",
        "encuesta.head(10)"
      ],
      "execution_count": 0,
      "outputs": []
    },
    {
      "cell_type": "code",
      "metadata": {
        "id": "-U8V-biGcxUE",
        "colab_type": "code",
        "colab": {}
      },
      "source": [
        "# query 3 Jhon\n",
        "# cuales son los 5 lenguajes de programacion mas usados por encuesta"
      ],
      "execution_count": 0,
      "outputs": []
    },
    {
      "cell_type": "code",
      "metadata": {
        "id": "b4KZeQPkc4Rs",
        "colab_type": "code",
        "colab": {}
      },
      "source": [
        "# query 4\n",
        "# cual es el rango salarial mas comun por encuesta y cuantos programadores\n",
        "\n",
        "# crear tabla  \n",
        "consulta4 = (encuestas[encuestas['salary']!='Rather not say']\n",
        "             .groupby(['salary','survey'])\n",
        "             .count()['country']\n",
        "            )\n",
        "\n",
        "# crear contenedores de valores\n",
        "valores = []\n",
        "diccionario = {}\n",
        "\n",
        "# iterador para consultar valores\n",
        "for i in consulta4.unstack():\n",
        "  valores.append(consulta4.unstack()[i].max()) \n",
        "\n",
        "# crear grafica\n",
        "plt.figure(figsize = (14, 9)) # ajustar tamano\n",
        "plt.bar(x = range(2011,2018), height = valores) # barras\n",
        "plt.title('Rango salarial más común por año de encuesta',weight = 'bold'); # editar titulo\n",
        "\n",
        "# crear iterador para agregar la marca del rango salarial\n",
        "for i,x in enumerate(consulta4.unstack()):\n",
        "  texto = list(consulta4.unstack()[x][consulta4.unstack()[x] == valores[i]].index)[0]\n",
        "  plt.text(x = list(range(2011,2018))[i] - 0.333,\n",
        "           y = consulta4.unstack()[x].max() + 120, \n",
        "           s = 'Rango salarial\\n' + texto,\n",
        "           ma =  'center',\n",
        "           size = 9\n",
        "          ) \n",
        "  diccionario.update({ str(list(range(2011,2018))[i]): 'valor: ' + str(valores[i]) + \n",
        "                      ' rango: ' + texto})\n",
        "  \n",
        "# guardar grafica\n",
        "plt.savefig('Archivos_SBDM_20191/query4.PNG', dpi = 1200)"
      ],
      "execution_count": 0,
      "outputs": []
    },
    {
      "cell_type": "code",
      "metadata": {
        "id": "UOGVX6u9dCq1",
        "colab_type": "code",
        "colab": {}
      },
      "source": [
        "# query 5\n",
        "# cuales son las tres pincipales ocupaciones por encuesta\n",
        "\n",
        "# crear tablas\n",
        "consulta5 = (encuestas\n",
        "             .groupby(['survey','occupation'])\n",
        "             .count()['country']\n",
        "             .unstack()\n",
        "             .T\n",
        "            )\n",
        "\n",
        "# crear contenedor de graficas\n",
        "fig, axs = plt.subplots(7,1, figsize = (8,7), sharex = True)\n",
        "\n",
        "# crear graficas individuales\n",
        "for i,survey in enumerate(consulta5):\n",
        "  # establecer tamano de las barras y colores\n",
        "  axs[i].barh(y = list(consulta5[survey].sort_values(ascending = False)[:3].index), \n",
        "              width = list(consulta5[survey].sort_values(ascending = False)[:3]),\n",
        "              color = ['darkblue','blue','lightblue']\n",
        "             )\n",
        "  axs[i].set_yticklabels(list(consulta5[survey]\n",
        "                              .sort_values(ascending = False)[:3]\n",
        "                              .index), \n",
        "                         rotation = 'horizontal') # ajustar eje y\n",
        "  \n",
        "  axs[i].text(-30000, 1, survey, weight = 'bold') # ajustar fecha de la encuesta\n",
        "  axs[i].text(-30000, 2.3, '-'*95, alpha = 0.2)  # ajustar linea separadora\n",
        "  \n",
        "axs[6].text(-30000, -0.5, '-'*95, alpha = 0.2)  # ajustar linea separadora inicial\n",
        "plt.subplots_adjust(wspace = 0, hspace = 0); # ajustar espacios entre las graficas\n",
        "plt.text(-7000, 22, 'Tres principales ocupaciones por año', size = 12, weight = 'bold'); # ajustar titulo\n",
        "\n",
        "# guardar gráfica\n",
        "plt.savefig('Archivos_SBDM_20191/query5.PNG', bbox_inches = Bbox([[-5,0],[9,7]]), dpi = 1200)"
      ],
      "execution_count": 0,
      "outputs": []
    },
    {
      "cell_type": "code",
      "metadata": {
        "id": "D_YwytL8dlgZ",
        "colab_type": "code",
        "colab": {}
      },
      "source": [
        "# query 6 Jhon\n",
        "# principales 3 ocupaciones por pais"
      ],
      "execution_count": 0,
      "outputs": []
    },
    {
      "cell_type": "code",
      "metadata": {
        "id": "NcYmdN1rdxph",
        "colab_type": "code",
        "colab": {}
      },
      "source": [
        "# query 7\n",
        "# principal rango salarial por los 10 primeros paises\n",
        "\n",
        "# crear tabla  \n",
        "consulta7 = (encuestas[encuestas['salary']!='Rather not say']\n",
        "             .groupby(['salary','country'])\n",
        "             .count()['occupation']\n",
        "            )\n",
        "\n",
        "# crear contenedores de valores\n",
        "consulta7_axs = (consulta7\n",
        "                 .unstack()[consulta1.index]\n",
        "                 .max()\n",
        "                 .sort_values(ascending = True)\n",
        "                )\n",
        "\n",
        "valores = list(consulta7_axs)\n",
        "diccionario = {}\n",
        "\n",
        "# crear grafica\n",
        "plt.figure(figsize = (12, 10)) # ajustar tamano\n",
        "plt.barh(y = consulta7_axs.index, width = valores) # barras\n",
        "plt.title('Rango salarial más común por 10 países principales', weight = 'bold'); # editar titulo\n",
        "plt.xlim(0,5300)\n",
        "\n",
        "# crear iterador para agregar la marca del rango salarial\n",
        "for i,x in enumerate(consulta7.unstack()[consulta1.index]):\n",
        "  \n",
        "  texto = str(list(consulta7.unstack()[consulta7_axs.index[i]][consulta7.unstack()[consulta7_axs.index[i]] \n",
        "                                                                                   == valores[i]].index)[0])\n",
        "             \n",
        "  plt.text(y = i - 0.2,\n",
        "           x = valores[i] + 50, \n",
        "           s = 'Rango salarial\\n' + texto,\n",
        "           ma =  'center',\n",
        "           size = 9\n",
        "          ) \n",
        "\n",
        "# guardar grafica\n",
        "plt.savefig('Archivos_SBDM_20191/query7.PNG', bbox_inches = Bbox([[-1,0],[12,10]]), dpi = 1200)"
      ],
      "execution_count": 0,
      "outputs": []
    },
    {
      "cell_type": "code",
      "metadata": {
        "id": "LX_o-pCrd8RS",
        "colab_type": "code",
        "colab": {}
      },
      "source": [
        "# query 8 Jhon\n",
        "# cual es el lenguaje con mas crecimiento JHON en las encuestas"
      ],
      "execution_count": 0,
      "outputs": []
    },
    {
      "cell_type": "code",
      "metadata": {
        "id": "73uBzH60eKvt",
        "colab_type": "code",
        "outputId": "f0072ec6-ec83-4ee3-bf3e-6d50f24f927c",
        "colab": {
          "base_uri": "https://localhost:8080/",
          "height": 499
        }
      },
      "source": [
        "# query 9\n",
        "# cual es el lenguaje mas popular en los 10 paises con mas programadores\n",
        "\n",
        "# crear tabla\n",
        "consulta9 = encuestas[['country','programming_language']]\n",
        "\n",
        "# filtrar por paises\n",
        "consulta9 = consulta9[consulta9['country'].isin(list(consulta1.index))]\n",
        "\n",
        "# crear nueva columna para contar lenguajes\n",
        "consulta9['list_programming_language'] = consulta9['programming_language'].str.split(';')\n",
        "\n",
        "# crear contenedores\n",
        "lenguaje = []\n",
        "valor = []\n",
        "\n",
        "# realizar iterador sobre los paises\n",
        "for i,x in enumerate(consulta1.index):\n",
        "  \n",
        "  # filtrar por cada pais\n",
        "  lista = list(consulta9[consulta9['country'] == consulta1.index[i]]['list_programming_language'])\n",
        "  \n",
        "  # iterar sobre cada elemento y convertir en un dataframe\n",
        "  lista2 = pd.DataFrame([list(chain(*lista)), '1'*len(list(chain(*lista)))]).T\n",
        "  \n",
        "  # filtrar otros lenguajes y contar\n",
        "  lista3 = (lista2[lista2[0] != 'Other']\n",
        "            .groupby(0)\n",
        "            .count()\n",
        "            .sort_values(by = 1, ascending = False)[:1]\n",
        "           )\n",
        "  \n",
        "  # agregar valores a listas\n",
        "  lenguaje.append(lista3.index[0])\n",
        "  valor.append(list(lista3[1])[0])\n",
        "\n",
        "# crear grafica  \n",
        "plt.figure(figsize = (12, 8)) # establecer tamano\n",
        "plt.barh(y = consulta1.index, width = valor,) # crear barras\n",
        "plt.title('Principal lenguaje en los 10 países con más programadores', \n",
        "          size = 12, \n",
        "          weight = 'bold'\n",
        "         ) # ajustar titulo\n",
        "plt.xlim(0, 22000) # establecer limites\n",
        "\n",
        "# agregar etiqueta de lenguaje\n",
        "for i,x in enumerate(lenguaje):\n",
        "  plt.text(valor[i] + 100, i - 0.25, lenguaje[i] + '\\n' + str(valor[i]))\n",
        "  \n",
        "# guardar grafica\n",
        "plt.savefig('Archivos_SBDM_20191/query9.PNG', bbox_inches = Bbox([[-1,0],[12,8]]))#, dpi = 1200)"
      ],
      "execution_count": 0,
      "outputs": [
        {
          "output_type": "display_data",
          "data": {
            "image/png": "[encoded data removed]",
            "text/plain": [
              "<Figure size 864x576 with 1 Axes>"
            ]
          },
          "metadata": {
            "tags": []
          }
        }
      ]
    },
    {
      "cell_type": "code",
      "metadata": {
        "id": "fNqboTfyeVsz",
        "colab_type": "code",
        "colab": {}
      },
      "source": [
        "# query 10 Jhon\n",
        "# cuales son las 5 ocupaciones mas populares de python por encuesta"
      ],
      "execution_count": 0,
      "outputs": []
    },
    {
      "cell_type": "code",
      "metadata": {
        "id": "07UWIPjuemIB",
        "colab_type": "code",
        "colab": {}
      },
      "source": [
        "# query 10\n",
        "# cuales son las 3 ocupaciones con mas programadores con los mas altos rangos salariales\n",
        "\n",
        "consulta10 = (encuestas\n",
        "              .groupby(['salary','occupation'])\n",
        "              .count()['country']\n",
        "              .unstack()\n",
        "              .T[['120K - 140K', 'More than 140K']]\n",
        "             )\n",
        "\n",
        "# crear contenedor de graficas\n",
        "fig, axs = plt.subplots(2,1, figsize = (5,5), sharex = True)\n",
        "\n",
        "\n",
        "# crear graficas individuales\n",
        "for i,salary in enumerate(consulta10):\n",
        "  # establecer tamano de las barras y colores\n",
        "  axs[i].barh(y = list(consulta10[salary].sort_values(ascending = False)[:3].index), \n",
        "              width = list(consulta10[salary].sort_values(ascending = False)[:3]),\n",
        "              color = ['darkblue','blue','lightblue']\n",
        "             )\n",
        "  axs[i].set_yticklabels(list(consulta10[salary].sort_values(ascending = False)[:3].index), \n",
        "                         rotation = 'horizontal') # ajustar eje y\n",
        "  axs[i].text(-2000, 2, salary, size = 11, weight = 'bold', rotation = 'vertical')\n",
        "  axs[0].text(-2000, -0.5, '-'*45, alpha = 0.2)  # ajustar linea separadora\n",
        "  \n",
        "plt.subplots_adjust(wspace = 0, hspace = 0); # ajustar espacios entre las graficas\n",
        "axs[0].text(-1600,\n",
        "            3,\n",
        "            'Tres principales ocupaciones por los dos más altos rangos salariales', \n",
        "            size = 12, \n",
        "            weight = 'bold',\n",
        "           ); # ajustar titulo\n",
        "\n",
        "# guardar grafica\n",
        "plt.savefig('Archivos_SBDM_20191/query10_2.PNG', bbox_inches = Bbox([[-2,0],[5,5]]))"
      ],
      "execution_count": 0,
      "outputs": []
    },
    {
      "cell_type": "code",
      "metadata": {
        "id": "7ibpugZ8fHL3",
        "colab_type": "code",
        "colab": {}
      },
      "source": [
        "# query 11 Jhon\n",
        "# cual es el pais mas experto e inexperto programando por encuesta"
      ],
      "execution_count": 0,
      "outputs": []
    },
    {
      "cell_type": "code",
      "metadata": {
        "id": "oWxO_btwfOMf",
        "colab_type": "code",
        "colab": {}
      },
      "source": [
        "# query 12\n",
        "# numero promedio de lenguajes que saben los programadores por encuesta\n",
        "\n",
        "# crear dataframe\n",
        "consulta12 = encuestas.copy()\n",
        "\n",
        "# crear columna que cuenta la cantidad de lenguajes\n",
        "consulta12['number_languages'] = consulta12['programming_language'].str.count(';') + 1\n",
        "\n",
        "# modificar los que no tienen lenguaje por cero\n",
        "consulta12.loc[consulta12['programming_language'] == 'No language','number_languages'] = 0\n",
        "\n",
        "# crear dataframe para el grafico\n",
        "consulta12_axs = consulta12.groupby('survey').mean()['number_languages']\n",
        "\n",
        "# crear figura\n",
        "plt.figure(figsize = (12, 5)) # ajustar tamano\n",
        "plt.bar(x = range(2011,2018), height = list(consulta12_axs)) # crear barras\n",
        "plt.title('Número promedio de lenguajes o tecnologías dominadas por año', weight = 'bold') # ajustar titutlo\n",
        "plt.xticks(range(2011,2018)); # ajustar eje x\n",
        "\n",
        "# crear etiqueta de texto\n",
        "for i,x in enumerate(consulta12):\n",
        "  # crear texto redondeando el promedio\n",
        "  texto = str(round(list(consulta12_axs)[i],2))\n",
        "  # ajustar posicion y tamano\n",
        "  plt.text(x = list(range(2011,2018))[i] - 0.15,\n",
        "           y = list(consulta12_axs)[i] + 0.1, \n",
        "           s = texto,\n",
        "           ma =  'left',\n",
        "           size = 11\n",
        "          )\n",
        "  \n",
        "  \n",
        "# guardar grafica\n",
        "plt.savefig('Archivos_SBDM_20191/query12.PNG', dpi = 1200, bbox_inches = Bbox([[0,0],[12,5]]))"
      ],
      "execution_count": 0,
      "outputs": []
    },
    {
      "cell_type": "code",
      "metadata": {
        "id": "DBO6TiZSfiX6",
        "colab_type": "code",
        "colab": {}
      },
      "source": [
        "# query 13\n",
        "# cuanto es el salario en colombia por encuesta\n",
        "\n",
        "# crear tabla de preparacion\n",
        "prep13 = encuestas[(encuestas['country'] == 'Colombia') & (encuestas['salary'] != 'Rather not say')]\n",
        "\n",
        "# crear dataframe\n",
        "consulta13 = prep13.groupby(['salary','survey']).count()['occupation']\n",
        "\n",
        "# crear contenedores\n",
        "valores = []\n",
        "diccionario = {}\n",
        "\n",
        "# rellenar valores\n",
        "for i in consulta13.unstack():\n",
        "  valores.append(consulta13.unstack()[i].max()) \n",
        "\n",
        "# crear figura\n",
        "plt.figure(figsize = (10, 10)) # ajustar tamano\n",
        "plt.bar(x = range(2014,2018), height = valores) # crear barras\n",
        "plt.title('Rango salarial más común por año de encuesta en Colombia', weight = 'bold') # ajustar titutlo\n",
        "plt.xticks(range(2014,2018)); # ajustar eje x\n",
        "\n",
        "# crear etiqueta de texto\n",
        "for i,x in enumerate(consulta13.unstack()):\n",
        "  texto = list(consulta13.unstack()[x][consulta13.unstack()[x] == valores[i]].index)[0]\n",
        "  plt.text(x = list(range(2014,2018))[i] - 0.3,\n",
        "           y = consulta13.unstack()[x].max() + 0.5, \n",
        "           s = 'Rango salarial\\n' + texto,\n",
        "           ma =  'center'\n",
        "          ) \n",
        "  # modificar diccionario\n",
        "  diccionario.update({ str(list(range(2014,2018))[i]): 'valor: ' + str(valores[i]) + ' rango: ' + texto})\n",
        "  \n",
        "# guardar grafica\n",
        "plt.savefig('Archivos_SBDM_20191/query13.PNG', bbox_inches = Bbox([[0,0],[10,10]]), dpi = 1200)"
      ],
      "execution_count": 0,
      "outputs": []
    },
    {
      "cell_type": "code",
      "metadata": {
        "id": "Yk1M3VAzlKmX",
        "colab_type": "code",
        "colab": {}
      },
      "source": [
        "# query 14 Jhon\n",
        "# cuanto es la ocupacion mas popular en colombia por encuesta"
      ],
      "execution_count": 0,
      "outputs": []
    },
    {
      "cell_type": "code",
      "metadata": {
        "id": "I5pnxKy_lNCQ",
        "colab_type": "code",
        "colab": {}
      },
      "source": [
        "# query 15\n",
        "# cuales son los 3 lenguajes mas usados en colombia por encuesta\n",
        "\n",
        "# crear tabla de colombia\n",
        "consulta15 = encuestas[encuestas['country'] == 'Colombia'][['survey','programming_language']]\n",
        "\n",
        "# crear nueva columna para contar lenguajes\n",
        "consulta15['list_programming_language'] = consulta15['programming_language'].str.split(';')\n",
        "\n",
        "# crear contenedores\n",
        "anio = list(set(list(consulta15['survey'])))\n",
        "anio.sort()\n",
        "lenguaje = []\n",
        "valor = []\n",
        "\n",
        "# crear grafico contenedor\n",
        "fig, axs = plt.subplots(len(anio), 1, figsize = (6,6), sharex = True)\n",
        "\n",
        "# realizar iterador sobre las encuestas\n",
        "for i,x in enumerate(anio):\n",
        "  \n",
        "  # filtrar por cada pais\n",
        "  lista = list(consulta15[consulta15['survey'] == anio[i]]['list_programming_language'])\n",
        "  \n",
        "  # iterar sobre cada elemento y convertir en un dataframe\n",
        "  lista2 = pd.DataFrame([list(chain(*lista)), '1'*len(list(chain(*lista)))]).T\n",
        "  \n",
        "  \n",
        "  # filtrar otros lenguajes y contar\n",
        "  lista3 = (lista2[lista2[0] != 'Other']\n",
        "            .groupby(0)\n",
        "            .count()\n",
        "            .sort_values(by = 1, ascending = False)[:3]\n",
        "           )\n",
        "  \n",
        "  axs[i].barh(y = list(lista3.index),\n",
        "              width = list(lista3[1]),\n",
        "              color = ['lightblue','blue','darkblue']\n",
        "             )\n",
        "  \n",
        "  axs[i].set_yticklabels(list(lista3.index), rotation = 'horizontal') # ajustar eje y\n",
        "  axs[i].text(-20, 1.2, anio[i], size = 11, weight = 'bold', rotation = 'vertical')\n",
        "  axs[i].text(-23, -0.5, '-'*25, alpha = 0.2)  # ajustar linea separadora\n",
        "  \n",
        "  \n",
        "axs[0].text(-23, 2.4, '-'*25, alpha = 0.2)  # ajustar linea separadora\n",
        "plt.subplots_adjust(wspace = 0, hspace = 0); # ajustar espacios entre las graficas\n",
        "plt.text(-20, \n",
        "         12.5,\n",
        "         'Tres principales lenguajes/tecnologías en Colombia por año', \n",
        "         size = 12, \n",
        "         weight = 'bold'\n",
        "        ); # ajustar titulo\n",
        " \n",
        "# guardar grafica\n",
        "plt.savefig('Archivos_SBDM_20191/query15.PNG', bbox_inches = Bbox([[-1,0],[6,6]]), dpi = 1200 )"
      ],
      "execution_count": 0,
      "outputs": []
    },
    {
      "cell_type": "markdown",
      "metadata": {
        "id": "qsflINUVUljo",
        "colab_type": "text"
      },
      "source": [
        "### Representación visual de la bodega de datos"
      ]
    },
    {
      "cell_type": "markdown",
      "metadata": {
        "id": "671fq-3jZhai",
        "colab_type": "text"
      },
      "source": [
        "#### Cubo"
      ]
    },
    {
      "cell_type": "code",
      "metadata": {
        "id": "57e9j4ACOoHF",
        "colab_type": "code",
        "colab": {}
      },
      "source": [
        "# datos para el cubo\n",
        "cubo = encuestas[(encuestas['country'] == 'Colombia') | \n",
        "                 (encuestas['country'] == 'Ecuador') | \n",
        "                 (encuestas['country'] == 'Mexico')]\n",
        "\n",
        "cara_pais_encuesta = (cubo\n",
        "                      .groupby(['country','survey'])\n",
        "                      .count()['salary']\n",
        "                      .unstack()\n",
        "                     )\n",
        "\n",
        "cara_pais_salario = (cubo\n",
        "                     .groupby(['country','salary'])\n",
        "                     .count()['survey']\n",
        "                     .unstack()\n",
        "                    )\n",
        "\n",
        "cara_encuesta_salario = (encuestas\n",
        "                         .groupby(['survey','salary'])\n",
        "                         .count()['country']\n",
        "                         .unstack()\n",
        "                        )\n",
        "\n",
        "# cara_pais_encuesta\n",
        "# cara_pais_salario\n",
        "# cara_encuesta_salario"
      ],
      "execution_count": 0,
      "outputs": []
    },
    {
      "cell_type": "code",
      "metadata": {
        "id": "0UQL04yjXdmD",
        "colab_type": "code",
        "colab": {}
      },
      "source": [
        "# visualizar cubo\n",
        "display(Image(filename = 'Archivos_SBDM_20191/modelo-cubo.PNG'))"
      ],
      "execution_count": 0,
      "outputs": []
    },
    {
      "cell_type": "markdown",
      "metadata": {
        "id": "38h3COV5Zl0l",
        "colab_type": "text"
      },
      "source": [
        "#### Estrella"
      ]
    },
    {
      "cell_type": "code",
      "metadata": {
        "id": "OTIgzg264KML",
        "colab_type": "code",
        "colab": {}
      },
      "source": [
        "# datos estrella\n",
        "\n",
        "# contenedor\n",
        "datos = []\n",
        "\n",
        "# contar unicos por columna\n",
        "for i in encuestas:\n",
        "  datos.append(i + ': ' + str(len(set(encuestas[i]))))\n",
        "\n",
        "# contar unicos por lenguaje de programacion\n",
        "lista = encuestas['programming_language']\n",
        "lista2 = [a.split(';') for a in list(lista)]\n",
        "lista2 = chain(*lista2)\n",
        "\n",
        "datos.append('unique programming language: ' + str(len(set(list(lista2)))))\n",
        "\n",
        "# datos"
      ],
      "execution_count": 0,
      "outputs": []
    },
    {
      "cell_type": "code",
      "metadata": {
        "id": "Jk2t6dG8ZsA-",
        "colab_type": "code",
        "colab": {}
      },
      "source": [
        "# visualizar estrella\n",
        "display(Image(filename = 'Archivos_SBDM_20191/Estrella.PNG'))"
      ],
      "execution_count": 0,
      "outputs": []
    },
    {
      "cell_type": "markdown",
      "metadata": {
        "id": "7bQcum-WZo0N",
        "colab_type": "text"
      },
      "source": [
        "#### Malinowski"
      ]
    },
    {
      "cell_type": "code",
      "metadata": {
        "id": "LNaZJxOKZvB5",
        "colab_type": "code",
        "colab": {}
      },
      "source": [
        "# visualizar malinowski\n",
        "display(Image(filename = 'Archivos_SBDM_20191/Malinowski.PNG'))"
      ],
      "execution_count": 0,
      "outputs": []
    },
    {
      "cell_type": "markdown",
      "metadata": {
        "id": "BhB_vdnrQJ-l",
        "colab_type": "text"
      },
      "source": [
        "## URL's de interés\n",
        "\n",
        "\n",
        "\n"
      ]
    },
    {
      "cell_type": "markdown",
      "metadata": {
        "id": "fxQOr7QbTYlw",
        "colab_type": "text"
      },
      "source": [
        "**Pandas**\n",
        "\n",
        "[Documentación del paquete *pandas* de *Python*](https://pandas.pydata.org/pandas-docs/stable/index.html)\n",
        "\n",
        "[Cómo concatenar dataframes con *pandas*](https://pandas.pydata.org/pandas-docs/stable/user_guide/merging.html)\n",
        "\n",
        "[Cómo combinar diferentes columnas de texto con *pandas*](https://stackoverflow.com/questions/19377969/combine-two-columns-of-text-in-dataframe-in-pandas-python)\n",
        "\n",
        "[Cómo contar patrones de caracteres con *pandas*](https://pandas.pydata.org/pandas-docs/stable/reference/api/pandas.Series.str.count.html)\n",
        "\n",
        "[Cómo renombrar columnas con *pandas*](https://pandas.pydata.org/pandas-docs/stable/reference/api/pandas.DataFrame.rename.html)\n",
        "\n",
        "[Cómo convertir índices en columnas con *pandas*](https://stackoverflow.com/questions/20461165/how-to-convert-index-of-a-pandas-dataframe-into-a-column)\n",
        "\n",
        "[Cómo anidar múltiples métodos con *pandas*](https://tomaugspurger.github.io/method-chaining.html)\n",
        "\n",
        "[Cómo filtrar por múltiples elementos con *pandas*](https://stackoverflow.com/questions/12096252/use-a-list-of-values-to-select-rows-from-a-pandas-dataframe)\n",
        "\n",
        "\n",
        "\n",
        "---\n",
        "**Expresiones regulares *re***\n",
        "\n",
        "[Documentación del paquete *re* de *Python*](https://docs.python.org/3/library/re.html)\n",
        "\n",
        "[Cómo trabajar con expresiones regulares con *re*](https://www.guru99.com/python-regular-expressions-complete-tutorial.html)\n",
        "\n",
        "---\n",
        "\n",
        "**Graficar *matplotlib***\n",
        "\n",
        "[Documentacion del paquete *matplotlib* de *Python*](https://matplotlib.org/3.1.0/index.html#)\n",
        "\n",
        "[Cómo guardar una gráfica de *matplotlib* usando *savefig*](https://matplotlib.org/3.1.0/api/_as_gen/matplotlib.pyplot.savefig.html)\n",
        "\n",
        "---\n",
        "\n",
        "***Markdown***\n",
        "\n",
        "[Documentación sobre el formato *Markdown*](https://www.markdownguide.org/getting-started)\n",
        "\n",
        "[Cómo crear tablas en formato Markdown](https://www.tablesgenerator.com/markdown_tables)\n",
        "\n",
        "[Cómo aplicar formato de texto en *Markdown*](https://support.discordapp.com/hc/en-us/articles/210298617-Markdown-Text-101-Chat-Formatting-Bold-Italic-Underline-)\n",
        "\n",
        "---\n",
        "\n",
        "**Varios**\n",
        "\n",
        "[Ejemplo de trabajar con tipos de dato *None* o *Nonetype*](https://stackoverflow.com/questions/23086383/how-to-test-nonetype-in-python)\n",
        "\n",
        "[Ejemplo de añadir elementos a un diccionario](https://thispointer.com/python-how-to-add-append-key-value-pairs-in-dictionary-using-dict-update/)\n",
        "\n",
        "[Cómo añadir imágenes a un cuaderno de *Jupyter*](https://stackoverflow.com/questions/10628262/inserting-image-into-ipython-notebook-markdown)\n",
        "\n",
        "\n"
      ]
    }
  ]
}